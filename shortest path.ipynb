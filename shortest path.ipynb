{
 "cells": [
  {
   "cell_type": "markdown",
   "source": [
    "# 1.library imports"
   ],
   "metadata": {
    "collapsed": false
   }
  },
  {
   "cell_type": "code",
   "execution_count": 1,
   "outputs": [],
   "source": [
    "import heapq"
   ],
   "metadata": {
    "collapsed": false,
    "ExecuteTime": {
     "end_time": "2024-01-28T11:23:13.395677600Z",
     "start_time": "2024-01-28T11:23:13.380014200Z"
    }
   }
  },
  {
   "cell_type": "markdown",
   "source": [
    "# 2.graph class\n",
    "## containing:\n",
    "* a constructor to make a graph with V vertices and add_edge method to add an edge between u and w with weight of w in form of (u, v, w)\n",
    "* dijkstra method to calculate distance between source src and other vertices\n",
    "* bellman_ford method to only detect negative edges when used with (src, 0) arguments and  to calculate distance between src and other vertices when used with (src) argument.\n",
    "* johnson method to make all weights positive."
   ],
   "metadata": {
    "collapsed": false
   }
  },
  {
   "cell_type": "code",
   "execution_count": 70,
   "metadata": {
    "collapsed": true,
    "ExecuteTime": {
     "end_time": "2024-01-28T12:46:13.436868500Z",
     "start_time": "2024-01-28T12:46:13.373744600Z"
    }
   },
   "outputs": [],
   "source": [
    "class Graph:\n",
    "\tdef __init__(self, v: int):\n",
    "\t\tself.V = v\n",
    "\t\tself.adj = [[] for _ in range(self.V)]\n",
    "\n",
    "\tdef add_edge(self, u: int, v: int, w: int):\n",
    "\t\tself.adj[u].append((v, w))\n",
    "\t\t# self.adj[v].append((u, w))\n",
    "\n",
    "\tdef print_arr(self, dist, changed):\n",
    "\t\tprint(\"Vertex Distance from Source\")\n",
    "\t\tfor i in range(len(self.adj)):\n",
    "\t\t\tmsg = \"{0}\\t\\t{1}\".format(i, dist[i])\n",
    "\t\t\tif changed == i:\n",
    "\t\t\t\tmsg = msg + \"  changed!! \"\n",
    "\t\t\tprint(msg)\n",
    "\t\t\n",
    "\tdef dijkstra(self, src: int):\n",
    "\t\tfor v in self.adj:\n",
    "\t\t\tfor u, w in v:\n",
    "\t\t\t\tif w < 0:\n",
    "\t\t\t\t\tprint(\"can not use dijkstra on graphs with negative weight!\")\n",
    "\t\t\t\t\treturn\n",
    "\t\tcounter = 1\n",
    "\t\tpq = []\n",
    "\t\theapq.heappush(pq, (0, src))\n",
    "\t\tdist = [float(\"inf\")] * self.V\n",
    "\t\tchecked = [0] * self.V\n",
    "\t\tdist[src] = 0\n",
    "\t\tprint(\"initial:\")\n",
    "\t\tself.print_arr(dist, -1)\n",
    "\t\twhile pq:\n",
    "\t\t\td, u = heapq.heappop(pq)\n",
    "\t\t\tfor v, weight in self.adj[u]:\n",
    "\t\t\t\tif dist[v] > dist[u] + weight and checked[v] == 0:\n",
    "\t\t\t\t\tprint(\"\\nstep:  \", counter)\n",
    "\t\t\t\t\tcounter += 1\n",
    "\t\t\t\t\tdist[v] = dist[u] + weight\n",
    "\t\t\t\t\theapq.heappush(pq, (dist[v], v))\n",
    "\t\t\t\t\tself.print_arr(dist, v)\n",
    "\t\t\tchecked[u] = 1\n",
    "\t\tprint(\"\\nfinal result:\")\n",
    "\t\tself.print_arr(dist, -1)\n",
    "\n",
    "\tdef bellman_ford(self, src, print_ = 1):\n",
    "\t\tdist = [float(\"Inf\")] * len(self.adj)\n",
    "\t\tdist[src] = 0\n",
    "\t\tif print_:\n",
    "\t\t\tprint(\"initial:\")\n",
    "\t\t\tself.print_arr(dist, -1)\n",
    "\t\tfor _ in range(len(self.adj)-1):\n",
    "\t\t\tfor u in range(len(self.adj)):\n",
    "\t\t\t\tfor v, w in self.adj[u]:\n",
    "\t\t\t\t\tif dist[u] != float(\"Inf\") and dist[u] + w < dist[v]:\n",
    "\t\t\t\t\t\tdist[v] = dist[u] + w\n",
    "\t\t\t\t\t\tif print_:\n",
    "\t\t\t\t\t\t\tself.print_arr(dist, v)\n",
    "\t\tfor u in range(len(self.adj)):\n",
    "\t\t\tfor v, w in self.adj[u]:\n",
    "\t\t\t\tif dist[u] != float(\"Inf\") and dist[u] + w < dist[v]:\n",
    "\t\t\t\t\tprint(\"Graph contains negative weight cycle\")\n",
    "\t\t\t\t\treturn -1\n",
    "\t\tif print_:\n",
    "\t\t\tprint(\"\\nfinal result:\")\n",
    "\t\t\tself.print_arr(dist, -1)\n",
    "\t\treturn dist\n",
    "\n",
    "\tdef johnson(self):\n",
    "\t\tnew_edge = len(self.adj)\n",
    "\t\tself.adj.append([])\n",
    "\t\tfor i in range(new_edge):\n",
    "\t\t\tself.add_edge(new_edge, i, 0)\n",
    "\t\tbellman_ford_dist = self.bellman_ford(new_edge, 0)\n",
    "\t\tif bellman_ford_dist == -1:\n",
    "\t\t\treturn\n",
    "\t\tfor u in range(new_edge):\n",
    "\t\t\tfor i in range(len(self.adj[u])):\n",
    "\t\t\t\tself.adj[u][i] = (self.adj[u][i][0] ,self.adj[u][i][1] + bellman_ford_dist[u] - bellman_ford_dist[self.adj[u][i][0]])\n",
    "\t\tself.adj.pop()\n",
    "\t\tprint(self.adj)"
   ]
  },
  {
   "cell_type": "markdown",
   "source": [
    "# 3.examples\n",
    "## 3.1 an all positive edge graph with 9 vertices:"
   ],
   "metadata": {
    "collapsed": false
   }
  },
  {
   "cell_type": "code",
   "execution_count": 74,
   "outputs": [],
   "source": [
    "g = Graph(9)\n",
    "\n",
    "g.add_edge(0, 1, 4)\n",
    "g.add_edge(0, 7, 8)\n",
    "g.add_edge(1, 2, 8)\n",
    "g.add_edge(1, 7, 11)\n",
    "g.add_edge(2, 3, 7)\n",
    "g.add_edge(2, 8, 2)\n",
    "g.add_edge(2, 5, 4)\n",
    "g.add_edge(3, 4, 9)\n",
    "g.add_edge(3, 5, 14)\n",
    "g.add_edge(4, 5, 10)\n",
    "g.add_edge(5, 6, 2)\n",
    "g.add_edge(6, 7, 1)\n",
    "g.add_edge(6, 8, 6)\n",
    "g.add_edge(7, 8, 7)"
   ],
   "metadata": {
    "collapsed": false,
    "ExecuteTime": {
     "end_time": "2024-01-28T12:48:04.989519900Z",
     "start_time": "2024-01-28T12:48:04.976564Z"
    }
   }
  },
  {
   "cell_type": "markdown",
   "source": [
    "### 3.1.1 finding single source shortest path by using dijkstra:"
   ],
   "metadata": {
    "collapsed": false
   }
  },
  {
   "cell_type": "code",
   "execution_count": 22,
   "outputs": [
    {
     "name": "stdout",
     "output_type": "stream",
     "text": [
      "initial:\n",
      "Vertex Distance from Source\n",
      "0\t\t0\n",
      "1\t\tinf\n",
      "2\t\tinf\n",
      "3\t\tinf\n",
      "4\t\tinf\n",
      "5\t\tinf\n",
      "6\t\tinf\n",
      "7\t\tinf\n",
      "8\t\tinf\n",
      "\n",
      "step:   1\n",
      "Vertex Distance from Source\n",
      "0\t\t0\n",
      "1\t\t4  changed!! \n",
      "2\t\tinf\n",
      "3\t\tinf\n",
      "4\t\tinf\n",
      "5\t\tinf\n",
      "6\t\tinf\n",
      "7\t\tinf\n",
      "8\t\tinf\n",
      "\n",
      "step:   2\n",
      "Vertex Distance from Source\n",
      "0\t\t0\n",
      "1\t\t4\n",
      "2\t\tinf\n",
      "3\t\tinf\n",
      "4\t\tinf\n",
      "5\t\tinf\n",
      "6\t\tinf\n",
      "7\t\t8  changed!! \n",
      "8\t\tinf\n",
      "\n",
      "step:   3\n",
      "Vertex Distance from Source\n",
      "0\t\t0\n",
      "1\t\t4\n",
      "2\t\t12  changed!! \n",
      "3\t\tinf\n",
      "4\t\tinf\n",
      "5\t\tinf\n",
      "6\t\tinf\n",
      "7\t\t8\n",
      "8\t\tinf\n",
      "\n",
      "step:   4\n",
      "Vertex Distance from Source\n",
      "0\t\t0\n",
      "1\t\t4\n",
      "2\t\t12\n",
      "3\t\tinf\n",
      "4\t\tinf\n",
      "5\t\tinf\n",
      "6\t\t9  changed!! \n",
      "7\t\t8\n",
      "8\t\tinf\n",
      "\n",
      "step:   5\n",
      "Vertex Distance from Source\n",
      "0\t\t0\n",
      "1\t\t4\n",
      "2\t\t12\n",
      "3\t\tinf\n",
      "4\t\tinf\n",
      "5\t\tinf\n",
      "6\t\t9\n",
      "7\t\t8\n",
      "8\t\t15  changed!! \n",
      "\n",
      "step:   6\n",
      "Vertex Distance from Source\n",
      "0\t\t0\n",
      "1\t\t4\n",
      "2\t\t12\n",
      "3\t\tinf\n",
      "4\t\tinf\n",
      "5\t\t11  changed!! \n",
      "6\t\t9\n",
      "7\t\t8\n",
      "8\t\t15\n",
      "\n",
      "step:   7\n",
      "Vertex Distance from Source\n",
      "0\t\t0\n",
      "1\t\t4\n",
      "2\t\t12\n",
      "3\t\t25  changed!! \n",
      "4\t\tinf\n",
      "5\t\t11\n",
      "6\t\t9\n",
      "7\t\t8\n",
      "8\t\t15\n",
      "\n",
      "step:   8\n",
      "Vertex Distance from Source\n",
      "0\t\t0\n",
      "1\t\t4\n",
      "2\t\t12\n",
      "3\t\t25\n",
      "4\t\t21  changed!! \n",
      "5\t\t11\n",
      "6\t\t9\n",
      "7\t\t8\n",
      "8\t\t15\n",
      "\n",
      "step:   9\n",
      "Vertex Distance from Source\n",
      "0\t\t0\n",
      "1\t\t4\n",
      "2\t\t12\n",
      "3\t\t19  changed!! \n",
      "4\t\t21\n",
      "5\t\t11\n",
      "6\t\t9\n",
      "7\t\t8\n",
      "8\t\t15\n",
      "\n",
      "step:   10\n",
      "Vertex Distance from Source\n",
      "0\t\t0\n",
      "1\t\t4\n",
      "2\t\t12\n",
      "3\t\t19\n",
      "4\t\t21\n",
      "5\t\t11\n",
      "6\t\t9\n",
      "7\t\t8\n",
      "8\t\t14  changed!! \n",
      "\n",
      "final result:\n",
      "Vertex Distance from Source\n",
      "0\t\t0\n",
      "1\t\t4\n",
      "2\t\t12\n",
      "3\t\t19\n",
      "4\t\t21\n",
      "5\t\t11\n",
      "6\t\t9\n",
      "7\t\t8\n",
      "8\t\t14\n"
     ]
    }
   ],
   "source": [
    "g.dijkstra(0)"
   ],
   "metadata": {
    "collapsed": false,
    "ExecuteTime": {
     "end_time": "2024-01-28T11:31:05.673201100Z",
     "start_time": "2024-01-28T11:31:05.659342700Z"
    }
   }
  },
  {
   "cell_type": "markdown",
   "source": [
    "### 3.1.2 finding single source shortest path by using bellman ford"
   ],
   "metadata": {
    "collapsed": false
   }
  },
  {
   "cell_type": "code",
   "execution_count": 63,
   "outputs": [
    {
     "name": "stdout",
     "output_type": "stream",
     "text": [
      "initial:\n",
      "Vertex Distance from Source\n",
      "0\t\t0\n",
      "1\t\tinf\n",
      "2\t\tinf\n",
      "3\t\tinf\n",
      "4\t\tinf\n",
      "5\t\tinf\n",
      "6\t\tinf\n",
      "7\t\tinf\n",
      "8\t\tinf\n",
      "Vertex Distance from Source\n",
      "0\t\t0\n",
      "1\t\t4  changed!! \n",
      "2\t\tinf\n",
      "3\t\tinf\n",
      "4\t\tinf\n",
      "5\t\tinf\n",
      "6\t\tinf\n",
      "7\t\tinf\n",
      "8\t\tinf\n",
      "Vertex Distance from Source\n",
      "0\t\t0\n",
      "1\t\t4\n",
      "2\t\tinf\n",
      "3\t\tinf\n",
      "4\t\tinf\n",
      "5\t\tinf\n",
      "6\t\tinf\n",
      "7\t\t8  changed!! \n",
      "8\t\tinf\n",
      "Vertex Distance from Source\n",
      "0\t\t0\n",
      "1\t\t4\n",
      "2\t\t12  changed!! \n",
      "3\t\tinf\n",
      "4\t\tinf\n",
      "5\t\tinf\n",
      "6\t\tinf\n",
      "7\t\t8\n",
      "8\t\tinf\n",
      "Vertex Distance from Source\n",
      "0\t\t0\n",
      "1\t\t4\n",
      "2\t\t12\n",
      "3\t\t19  changed!! \n",
      "4\t\tinf\n",
      "5\t\tinf\n",
      "6\t\tinf\n",
      "7\t\t8\n",
      "8\t\tinf\n",
      "Vertex Distance from Source\n",
      "0\t\t0\n",
      "1\t\t4\n",
      "2\t\t12\n",
      "3\t\t19\n",
      "4\t\tinf\n",
      "5\t\tinf\n",
      "6\t\tinf\n",
      "7\t\t8\n",
      "8\t\t14  changed!! \n",
      "Vertex Distance from Source\n",
      "0\t\t0\n",
      "1\t\t4\n",
      "2\t\t12\n",
      "3\t\t19\n",
      "4\t\tinf\n",
      "5\t\t16  changed!! \n",
      "6\t\tinf\n",
      "7\t\t8\n",
      "8\t\t14\n",
      "Vertex Distance from Source\n",
      "0\t\t0\n",
      "1\t\t4\n",
      "2\t\t12\n",
      "3\t\t19\n",
      "4\t\t28  changed!! \n",
      "5\t\t16\n",
      "6\t\tinf\n",
      "7\t\t8\n",
      "8\t\t14\n",
      "Vertex Distance from Source\n",
      "0\t\t0\n",
      "1\t\t4\n",
      "2\t\t12\n",
      "3\t\t19\n",
      "4\t\t28\n",
      "5\t\t16\n",
      "6\t\t18  changed!! \n",
      "7\t\t8\n",
      "8\t\t14\n",
      "\n",
      "final result:\n",
      "Vertex Distance from Source\n",
      "0\t\t0\n",
      "1\t\t4\n",
      "2\t\t12\n",
      "3\t\t19\n",
      "4\t\t28\n",
      "5\t\t16\n",
      "6\t\t18\n",
      "7\t\t8\n",
      "8\t\t14\n"
     ]
    },
    {
     "data": {
      "text/plain": "[0, 4, 12, 19, 28, 16, 18, 8, 14]"
     },
     "execution_count": 63,
     "metadata": {},
     "output_type": "execute_result"
    }
   ],
   "source": [
    "g.bellman_ford(0)"
   ],
   "metadata": {
    "collapsed": false,
    "ExecuteTime": {
     "end_time": "2024-01-28T12:43:08.413005900Z",
     "start_time": "2024-01-28T12:43:08.397377600Z"
    }
   }
  },
  {
   "cell_type": "markdown",
   "source": [
    "## 3.2 a graph with 4 vertices and negative weights"
   ],
   "metadata": {
    "collapsed": false
   }
  },
  {
   "cell_type": "code",
   "execution_count": 71,
   "outputs": [],
   "source": [
    "h = Graph(4)\n",
    "\n",
    "h.add_edge(0,1,-5)\n",
    "h.add_edge(0,2,2)\n",
    "h.add_edge(0,3,3)\n",
    "h.add_edge(1,2,4)\n",
    "h.add_edge(2,3,1)"
   ],
   "metadata": {
    "collapsed": false,
    "ExecuteTime": {
     "end_time": "2024-01-28T12:46:39.931122700Z",
     "start_time": "2024-01-28T12:46:39.915094800Z"
    }
   }
  },
  {
   "cell_type": "markdown",
   "source": [
    "### 3.2.1 finding single source shortest path by using dijkstra"
   ],
   "metadata": {
    "collapsed": false
   }
  },
  {
   "cell_type": "code",
   "execution_count": 72,
   "outputs": [
    {
     "name": "stdout",
     "output_type": "stream",
     "text": [
      "can not use dijkstra on graphs with negative weight!\n"
     ]
    }
   ],
   "source": [
    "h.dijkstra(0)"
   ],
   "metadata": {
    "collapsed": false,
    "ExecuteTime": {
     "end_time": "2024-01-28T12:46:41.054052400Z",
     "start_time": "2024-01-28T12:46:41.037576Z"
    }
   }
  },
  {
   "cell_type": "markdown",
   "source": [
    "### 3.2.2 make all weights positive by using johnson:"
   ],
   "metadata": {
    "collapsed": false
   }
  },
  {
   "cell_type": "code",
   "execution_count": 73,
   "outputs": [
    {
     "name": "stdout",
     "output_type": "stream",
     "text": [
      "[[(1, 0), (2, 3), (3, 3)], [(2, 0)], [(3, 0)], []]\n"
     ]
    }
   ],
   "source": [
    "h.johnson()"
   ],
   "metadata": {
    "collapsed": false,
    "ExecuteTime": {
     "end_time": "2024-01-28T12:46:42.420025800Z",
     "start_time": "2024-01-28T12:46:42.412935100Z"
    }
   }
  }
 ],
 "metadata": {
  "kernelspec": {
   "display_name": "Python 3",
   "language": "python",
   "name": "python3"
  },
  "language_info": {
   "codemirror_mode": {
    "name": "ipython",
    "version": 2
   },
   "file_extension": ".py",
   "mimetype": "text/x-python",
   "name": "python",
   "nbconvert_exporter": "python",
   "pygments_lexer": "ipython2",
   "version": "2.7.6"
  }
 },
 "nbformat": 4,
 "nbformat_minor": 0
}
