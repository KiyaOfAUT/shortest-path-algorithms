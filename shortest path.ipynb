{
 "cells": [
  {
   "cell_type": "markdown",
   "source": [
    "# 1.Import needed libraries"
   ],
   "metadata": {
    "collapsed": false
   }
  },
  {
   "cell_type": "code",
   "execution_count": 131,
   "outputs": [],
   "source": [
    "import heapq"
   ],
   "metadata": {
    "collapsed": false,
    "ExecuteTime": {
     "end_time": "2024-01-28T17:50:09.772754500Z",
     "start_time": "2024-01-28T17:50:09.725869Z"
    }
   }
  },
  {
   "cell_type": "markdown",
   "source": [
    "# 2.graph class"
   ],
   "metadata": {
    "collapsed": false
   }
  },
  {
   "cell_type": "code",
   "execution_count": 132,
   "metadata": {
    "collapsed": true,
    "ExecuteTime": {
     "end_time": "2024-01-28T17:50:09.804408100Z",
     "start_time": "2024-01-28T17:50:09.757129900Z"
    }
   },
   "outputs": [],
   "source": [
    "class Graph:\n",
    "\tdef __init__(self, v: int):\n",
    "\t\tself.V = v\n",
    "\t\tself.adj = [[] for _ in range(self.V)]\n",
    "\n",
    "\tdef add_edge(self, u: int, v: int, w: int):\n",
    "\t\tself.adj[u].append((v, w))\n",
    "\n",
    "\tdef print_arr(self, dist, previous, changed):\n",
    "\t\tprint(\"Vertex || Distance from Source || previous vertex\")\n",
    "\t\tfor i in range(len(self.adj)):\n",
    "\t\t\tmsg = \"{0}\\t\\t || {1}\\t\\t || {2}\".format(i, dist[i], previous[i])\n",
    "\t\t\tif changed == i:\n",
    "\t\t\t\tmsg = msg + \"  changed!! \"\n",
    "\t\t\tprint(msg)\n",
    "\t\t\n",
    "\tdef dijkstra(self, src: int):\n",
    "\t\tfor v in self.adj:\n",
    "\t\t\tfor u, w in v:\n",
    "\t\t\t\tif w < 0:\n",
    "\t\t\t\t\tprint(\"can not use dijkstra on graphs with negative weight!\")\n",
    "\t\t\t\t\treturn\n",
    "\t\tcounter = 1\n",
    "\t\tpq = []\n",
    "\t\tprevious = [-1] * len(self.adj)\n",
    "\t\theapq.heappush(pq, (0, src))\n",
    "\t\tdist = [float(\"inf\")] * self.V\n",
    "\t\tchecked = [0] * self.V\n",
    "\t\tdist[src] = 0\n",
    "\t\tprint(\"initial:\")\n",
    "\t\tself.print_arr(dist, previous, -1)\n",
    "\t\twhile pq:\n",
    "\t\t\td, u = heapq.heappop(pq)\n",
    "\t\t\tfor v, weight in self.adj[u]:\n",
    "\t\t\t\tif dist[v] > dist[u] + weight and checked[v] == 0:\n",
    "\t\t\t\t\tprint(\"\\nstep:  \", counter)\n",
    "\t\t\t\t\tprevious[v] = u\n",
    "\t\t\t\t\tcounter += 1\n",
    "\t\t\t\t\tdist[v] = dist[u] + weight\n",
    "\t\t\t\t\theapq.heappush(pq, (dist[v], v))\n",
    "\t\t\t\t\tself.print_arr(dist, previous, v)\n",
    "\t\t\tchecked[u] = 1\n",
    "\t\tprint(\"\\nfinal result:\")\n",
    "\t\tself.print_arr(dist, previous, -1)\n",
    "\n",
    "\tdef bellman_ford(self, src, print_ = 1):\n",
    "\t\tdist = [float(\"Inf\")] * len(self.adj)\n",
    "\t\tdist[src] = 0\n",
    "\t\tprevious = [-1] * len(self.adj)\n",
    "\t\tif print_:\n",
    "\t\t\tprint(\"initial:\")\n",
    "\t\t\tself.print_arr(dist, previous, -1)\n",
    "\t\tfor _ in range(len(self.adj)-1):\n",
    "\t\t\tfor u in range(len(self.adj)):\n",
    "\t\t\t\tfor v, w in self.adj[u]:\n",
    "\t\t\t\t\tif dist[u] != float(\"Inf\") and dist[u] + w < dist[v]:\n",
    "\t\t\t\t\t\tprevious[v] = u\n",
    "\t\t\t\t\t\tdist[v] = dist[u] + w\n",
    "\t\t\t\t\t\tif print_:\n",
    "\t\t\t\t\t\t\tself.print_arr(dist, previous, v)\n",
    "\t\tfor u in range(len(self.adj)):\n",
    "\t\t\tfor v, w in self.adj[u]:\n",
    "\t\t\t\tif dist[u] != float(\"Inf\") and dist[u] + w < dist[v]:\n",
    "\t\t\t\t\tprint(\"Graph contains negative weight cycle\")\n",
    "\t\t\t\t\treturn -1\n",
    "\t\tif print_:\n",
    "\t\t\tprint(\"\\nfinal result:\")\n",
    "\t\t\tself.print_arr(dist, previous, -1)\n",
    "\t\treturn dist\n",
    "\n",
    "\tdef johnson(self):\n",
    "\t\tnew_edge = len(self.adj)\n",
    "\t\tself.adj.append([])\n",
    "\t\tfor i in range(new_edge):\n",
    "\t\t\tself.add_edge(new_edge, i, 0)\n",
    "\t\tbellman_ford_dist = self.bellman_ford(new_edge, 0)\n",
    "\t\tif bellman_ford_dist == -1:\n",
    "\t\t\treturn\n",
    "\t\tprint(\"distance between the virtual node and other nodes: \", bellman_ford_dist[:new_edge])\n",
    "\t\tfor u in range(new_edge):\n",
    "\t\t\tfor i in range(len(self.adj[u])):\n",
    "\t\t\t\tself.adj[u][i] = (self.adj[u][i][0] ,self.adj[u][i][1] + bellman_ford_dist[u] - bellman_ford_dist[self.adj[u][i][0]])\n",
    "\t\tself.adj.pop()\n",
    "\t\tprint(\" all edges after johnson algorithm: \",self.adj)"
   ]
  },
  {
   "cell_type": "markdown",
   "source": [
    "# 3.examples\n",
    "## 3.1 an all positive edge graph with 9 vertices:\n",
    "![example1](https://private-user-images.githubusercontent.com/125073378/300279464-c3ac2f6b-a8ee-4aa3-90b5-fe3e816fa260.png?jwt=eyJhbGciOiJIUzI1NiIsInR5cCI6IkpXVCJ9.eyJpc3MiOiJnaXRodWIuY29tIiwiYXVkIjoicmF3LmdpdGh1YnVzZXJjb250ZW50LmNvbSIsImtleSI6ImtleTUiLCJleHAiOjE3MDY0NjExOTcsIm5iZiI6MTcwNjQ2MDg5NywicGF0aCI6Ii8xMjUwNzMzNzgvMzAwMjc5NDY0LWMzYWMyZjZiLWE4ZWUtNGFhMy05MGI1LWZlM2U4MTZmYTI2MC5wbmc_WC1BbXotQWxnb3JpdGhtPUFXUzQtSE1BQy1TSEEyNTYmWC1BbXotQ3JlZGVudGlhbD1BS0lBVkNPRFlMU0E1M1BRSzRaQSUyRjIwMjQwMTI4JTJGdXMtZWFzdC0xJTJGczMlMkZhd3M0X3JlcXVlc3QmWC1BbXotRGF0ZT0yMDI0MDEyOFQxNjU0NTdaJlgtQW16LUV4cGlyZXM9MzAwJlgtQW16LVNpZ25hdHVyZT1lNjQwMWZjYzFkNmVkNzJiNDFkNzhhN2E4MTJiMTk0ODQ0OTlmMzkzMDIzOTEyOGIzODg4MWIwMGZiNmNjOTA4JlgtQW16LVNpZ25lZEhlYWRlcnM9aG9zdCZhY3Rvcl9pZD0wJmtleV9pZD0wJnJlcG9faWQ9MCJ9.q4O2Ovs7sqSbp1OiIjTv1HaMLPoRCRoNZdZFuTJzCnE)"
   ],
   "metadata": {
    "collapsed": false
   }
  },
  {
   "cell_type": "code",
   "execution_count": 133,
   "outputs": [],
   "source": [
    "g = Graph(9)\n",
    "\n",
    "g.add_edge(0, 1, 4)\n",
    "g.add_edge(0, 7, 8)\n",
    "g.add_edge(1, 2, 8)\n",
    "g.add_edge(1, 7, 11)\n",
    "g.add_edge(2, 3, 7)\n",
    "g.add_edge(2, 8, 2)\n",
    "g.add_edge(2, 5, 4)\n",
    "g.add_edge(3, 4, 9)\n",
    "g.add_edge(3, 5, 14)\n",
    "g.add_edge(4, 5, 10)\n",
    "g.add_edge(5, 6, 2)\n",
    "g.add_edge(6, 7, 1)\n",
    "g.add_edge(6, 8, 6)\n",
    "g.add_edge(7, 8, 7)"
   ],
   "metadata": {
    "collapsed": false,
    "ExecuteTime": {
     "end_time": "2024-01-28T17:50:09.804408100Z",
     "start_time": "2024-01-28T17:50:09.772754500Z"
    }
   }
  },
  {
   "cell_type": "markdown",
   "source": [
    "### 3.1.1 finding single source the shortest path using dijkstra:"
   ],
   "metadata": {
    "collapsed": false
   }
  },
  {
   "cell_type": "code",
   "execution_count": 134,
   "outputs": [
    {
     "name": "stdout",
     "output_type": "stream",
     "text": [
      "initial:\n",
      "Vertex || Distance from Source || previous vertex\n",
      "0\t\t || 0\t\t || -1\n",
      "1\t\t || inf\t\t || -1\n",
      "2\t\t || inf\t\t || -1\n",
      "3\t\t || inf\t\t || -1\n",
      "4\t\t || inf\t\t || -1\n",
      "5\t\t || inf\t\t || -1\n",
      "6\t\t || inf\t\t || -1\n",
      "7\t\t || inf\t\t || -1\n",
      "8\t\t || inf\t\t || -1\n",
      "\n",
      "step:   1\n",
      "Vertex || Distance from Source || previous vertex\n",
      "0\t\t || 0\t\t || -1\n",
      "1\t\t || 4\t\t || 0  changed!! \n",
      "2\t\t || inf\t\t || -1\n",
      "3\t\t || inf\t\t || -1\n",
      "4\t\t || inf\t\t || -1\n",
      "5\t\t || inf\t\t || -1\n",
      "6\t\t || inf\t\t || -1\n",
      "7\t\t || inf\t\t || -1\n",
      "8\t\t || inf\t\t || -1\n",
      "\n",
      "step:   2\n",
      "Vertex || Distance from Source || previous vertex\n",
      "0\t\t || 0\t\t || -1\n",
      "1\t\t || 4\t\t || 0\n",
      "2\t\t || inf\t\t || -1\n",
      "3\t\t || inf\t\t || -1\n",
      "4\t\t || inf\t\t || -1\n",
      "5\t\t || inf\t\t || -1\n",
      "6\t\t || inf\t\t || -1\n",
      "7\t\t || 8\t\t || 0  changed!! \n",
      "8\t\t || inf\t\t || -1\n",
      "\n",
      "step:   3\n",
      "Vertex || Distance from Source || previous vertex\n",
      "0\t\t || 0\t\t || -1\n",
      "1\t\t || 4\t\t || 0\n",
      "2\t\t || 12\t\t || 1  changed!! \n",
      "3\t\t || inf\t\t || -1\n",
      "4\t\t || inf\t\t || -1\n",
      "5\t\t || inf\t\t || -1\n",
      "6\t\t || inf\t\t || -1\n",
      "7\t\t || 8\t\t || 0\n",
      "8\t\t || inf\t\t || -1\n",
      "\n",
      "step:   4\n",
      "Vertex || Distance from Source || previous vertex\n",
      "0\t\t || 0\t\t || -1\n",
      "1\t\t || 4\t\t || 0\n",
      "2\t\t || 12\t\t || 1\n",
      "3\t\t || inf\t\t || -1\n",
      "4\t\t || inf\t\t || -1\n",
      "5\t\t || inf\t\t || -1\n",
      "6\t\t || inf\t\t || -1\n",
      "7\t\t || 8\t\t || 0\n",
      "8\t\t || 15\t\t || 7  changed!! \n",
      "\n",
      "step:   5\n",
      "Vertex || Distance from Source || previous vertex\n",
      "0\t\t || 0\t\t || -1\n",
      "1\t\t || 4\t\t || 0\n",
      "2\t\t || 12\t\t || 1\n",
      "3\t\t || 19\t\t || 2  changed!! \n",
      "4\t\t || inf\t\t || -1\n",
      "5\t\t || inf\t\t || -1\n",
      "6\t\t || inf\t\t || -1\n",
      "7\t\t || 8\t\t || 0\n",
      "8\t\t || 15\t\t || 7\n",
      "\n",
      "step:   6\n",
      "Vertex || Distance from Source || previous vertex\n",
      "0\t\t || 0\t\t || -1\n",
      "1\t\t || 4\t\t || 0\n",
      "2\t\t || 12\t\t || 1\n",
      "3\t\t || 19\t\t || 2\n",
      "4\t\t || inf\t\t || -1\n",
      "5\t\t || inf\t\t || -1\n",
      "6\t\t || inf\t\t || -1\n",
      "7\t\t || 8\t\t || 0\n",
      "8\t\t || 14\t\t || 2  changed!! \n",
      "\n",
      "step:   7\n",
      "Vertex || Distance from Source || previous vertex\n",
      "0\t\t || 0\t\t || -1\n",
      "1\t\t || 4\t\t || 0\n",
      "2\t\t || 12\t\t || 1\n",
      "3\t\t || 19\t\t || 2\n",
      "4\t\t || inf\t\t || -1\n",
      "5\t\t || 16\t\t || 2  changed!! \n",
      "6\t\t || inf\t\t || -1\n",
      "7\t\t || 8\t\t || 0\n",
      "8\t\t || 14\t\t || 2\n",
      "\n",
      "step:   8\n",
      "Vertex || Distance from Source || previous vertex\n",
      "0\t\t || 0\t\t || -1\n",
      "1\t\t || 4\t\t || 0\n",
      "2\t\t || 12\t\t || 1\n",
      "3\t\t || 19\t\t || 2\n",
      "4\t\t || inf\t\t || -1\n",
      "5\t\t || 16\t\t || 2\n",
      "6\t\t || 18\t\t || 5  changed!! \n",
      "7\t\t || 8\t\t || 0\n",
      "8\t\t || 14\t\t || 2\n",
      "\n",
      "step:   9\n",
      "Vertex || Distance from Source || previous vertex\n",
      "0\t\t || 0\t\t || -1\n",
      "1\t\t || 4\t\t || 0\n",
      "2\t\t || 12\t\t || 1\n",
      "3\t\t || 19\t\t || 2\n",
      "4\t\t || 28\t\t || 3  changed!! \n",
      "5\t\t || 16\t\t || 2\n",
      "6\t\t || 18\t\t || 5\n",
      "7\t\t || 8\t\t || 0\n",
      "8\t\t || 14\t\t || 2\n",
      "\n",
      "final result:\n",
      "Vertex || Distance from Source || previous vertex\n",
      "0\t\t || 0\t\t || -1\n",
      "1\t\t || 4\t\t || 0\n",
      "2\t\t || 12\t\t || 1\n",
      "3\t\t || 19\t\t || 2\n",
      "4\t\t || 28\t\t || 3\n",
      "5\t\t || 16\t\t || 2\n",
      "6\t\t || 18\t\t || 5\n",
      "7\t\t || 8\t\t || 0\n",
      "8\t\t || 14\t\t || 2\n"
     ]
    }
   ],
   "source": [
    "g.dijkstra(0)"
   ],
   "metadata": {
    "collapsed": false,
    "ExecuteTime": {
     "end_time": "2024-01-28T17:50:09.804408100Z",
     "start_time": "2024-01-28T17:50:09.788773100Z"
    }
   }
  },
  {
   "cell_type": "markdown",
   "source": [
    "### 3.1.2 finding single source the shortest path by using bellman ford"
   ],
   "metadata": {
    "collapsed": false
   }
  },
  {
   "cell_type": "code",
   "execution_count": 135,
   "outputs": [
    {
     "name": "stdout",
     "output_type": "stream",
     "text": [
      "initial:\n",
      "Vertex || Distance from Source || previous vertex\n",
      "0\t\t || 0\t\t || -1\n",
      "1\t\t || inf\t\t || -1\n",
      "2\t\t || inf\t\t || -1\n",
      "3\t\t || inf\t\t || -1\n",
      "4\t\t || inf\t\t || -1\n",
      "5\t\t || inf\t\t || -1\n",
      "6\t\t || inf\t\t || -1\n",
      "7\t\t || inf\t\t || -1\n",
      "8\t\t || inf\t\t || -1\n",
      "Vertex || Distance from Source || previous vertex\n",
      "0\t\t || 0\t\t || -1\n",
      "1\t\t || 4\t\t || 0  changed!! \n",
      "2\t\t || inf\t\t || -1\n",
      "3\t\t || inf\t\t || -1\n",
      "4\t\t || inf\t\t || -1\n",
      "5\t\t || inf\t\t || -1\n",
      "6\t\t || inf\t\t || -1\n",
      "7\t\t || inf\t\t || -1\n",
      "8\t\t || inf\t\t || -1\n",
      "Vertex || Distance from Source || previous vertex\n",
      "0\t\t || 0\t\t || -1\n",
      "1\t\t || 4\t\t || 0\n",
      "2\t\t || inf\t\t || -1\n",
      "3\t\t || inf\t\t || -1\n",
      "4\t\t || inf\t\t || -1\n",
      "5\t\t || inf\t\t || -1\n",
      "6\t\t || inf\t\t || -1\n",
      "7\t\t || 8\t\t || 0  changed!! \n",
      "8\t\t || inf\t\t || -1\n",
      "Vertex || Distance from Source || previous vertex\n",
      "0\t\t || 0\t\t || -1\n",
      "1\t\t || 4\t\t || 0\n",
      "2\t\t || 12\t\t || 1  changed!! \n",
      "3\t\t || inf\t\t || -1\n",
      "4\t\t || inf\t\t || -1\n",
      "5\t\t || inf\t\t || -1\n",
      "6\t\t || inf\t\t || -1\n",
      "7\t\t || 8\t\t || 0\n",
      "8\t\t || inf\t\t || -1\n",
      "Vertex || Distance from Source || previous vertex\n",
      "0\t\t || 0\t\t || -1\n",
      "1\t\t || 4\t\t || 0\n",
      "2\t\t || 12\t\t || 1\n",
      "3\t\t || 19\t\t || 2  changed!! \n",
      "4\t\t || inf\t\t || -1\n",
      "5\t\t || inf\t\t || -1\n",
      "6\t\t || inf\t\t || -1\n",
      "7\t\t || 8\t\t || 0\n",
      "8\t\t || inf\t\t || -1\n",
      "Vertex || Distance from Source || previous vertex\n",
      "0\t\t || 0\t\t || -1\n",
      "1\t\t || 4\t\t || 0\n",
      "2\t\t || 12\t\t || 1\n",
      "3\t\t || 19\t\t || 2\n",
      "4\t\t || inf\t\t || -1\n",
      "5\t\t || inf\t\t || -1\n",
      "6\t\t || inf\t\t || -1\n",
      "7\t\t || 8\t\t || 0\n",
      "8\t\t || 14\t\t || 2  changed!! \n",
      "Vertex || Distance from Source || previous vertex\n",
      "0\t\t || 0\t\t || -1\n",
      "1\t\t || 4\t\t || 0\n",
      "2\t\t || 12\t\t || 1\n",
      "3\t\t || 19\t\t || 2\n",
      "4\t\t || inf\t\t || -1\n",
      "5\t\t || 16\t\t || 2  changed!! \n",
      "6\t\t || inf\t\t || -1\n",
      "7\t\t || 8\t\t || 0\n",
      "8\t\t || 14\t\t || 2\n",
      "Vertex || Distance from Source || previous vertex\n",
      "0\t\t || 0\t\t || -1\n",
      "1\t\t || 4\t\t || 0\n",
      "2\t\t || 12\t\t || 1\n",
      "3\t\t || 19\t\t || 2\n",
      "4\t\t || 28\t\t || 3  changed!! \n",
      "5\t\t || 16\t\t || 2\n",
      "6\t\t || inf\t\t || -1\n",
      "7\t\t || 8\t\t || 0\n",
      "8\t\t || 14\t\t || 2\n",
      "Vertex || Distance from Source || previous vertex\n",
      "0\t\t || 0\t\t || -1\n",
      "1\t\t || 4\t\t || 0\n",
      "2\t\t || 12\t\t || 1\n",
      "3\t\t || 19\t\t || 2\n",
      "4\t\t || 28\t\t || 3\n",
      "5\t\t || 16\t\t || 2\n",
      "6\t\t || 18\t\t || 5  changed!! \n",
      "7\t\t || 8\t\t || 0\n",
      "8\t\t || 14\t\t || 2\n",
      "\n",
      "final result:\n",
      "Vertex || Distance from Source || previous vertex\n",
      "0\t\t || 0\t\t || -1\n",
      "1\t\t || 4\t\t || 0\n",
      "2\t\t || 12\t\t || 1\n",
      "3\t\t || 19\t\t || 2\n",
      "4\t\t || 28\t\t || 3\n",
      "5\t\t || 16\t\t || 2\n",
      "6\t\t || 18\t\t || 5\n",
      "7\t\t || 8\t\t || 0\n",
      "8\t\t || 14\t\t || 2\n"
     ]
    },
    {
     "data": {
      "text/plain": "[0, 4, 12, 19, 28, 16, 18, 8, 14]"
     },
     "execution_count": 135,
     "metadata": {},
     "output_type": "execute_result"
    }
   ],
   "source": [
    "g.bellman_ford(0)"
   ],
   "metadata": {
    "collapsed": false,
    "ExecuteTime": {
     "end_time": "2024-01-28T17:50:09.821921Z",
     "start_time": "2024-01-28T17:50:09.804408100Z"
    }
   }
  },
  {
   "cell_type": "markdown",
   "source": [
    "## 3.2 a graph with 4 vertices and negative weights\n",
    "![example2](https://private-user-images.githubusercontent.com/125073378/300279401-6e1181a7-9991-4dbb-8d6b-ceb8e1b95b12.png?jwt=eyJhbGciOiJIUzI1NiIsInR5cCI6IkpXVCJ9.eyJpc3MiOiJnaXRodWIuY29tIiwiYXVkIjoicmF3LmdpdGh1YnVzZXJjb250ZW50LmNvbSIsImtleSI6ImtleTUiLCJleHAiOjE3MDY0NjExOTcsIm5iZiI6MTcwNjQ2MDg5NywicGF0aCI6Ii8xMjUwNzMzNzgvMzAwMjc5NDAxLTZlMTE4MWE3LTk5OTEtNGRiYi04ZDZiLWNlYjhlMWI5NWIxMi5wbmc_WC1BbXotQWxnb3JpdGhtPUFXUzQtSE1BQy1TSEEyNTYmWC1BbXotQ3JlZGVudGlhbD1BS0lBVkNPRFlMU0E1M1BRSzRaQSUyRjIwMjQwMTI4JTJGdXMtZWFzdC0xJTJGczMlMkZhd3M0X3JlcXVlc3QmWC1BbXotRGF0ZT0yMDI0MDEyOFQxNjU0NTdaJlgtQW16LUV4cGlyZXM9MzAwJlgtQW16LVNpZ25hdHVyZT05Yzg1ZDBkMDY2OGU4MDJlZmRhMGE1ZTFlYTAxMzZhMjhlNjdkNWJlZjlhMDEwMjc5NzRmOTRiODE5MzI3MjNjJlgtQW16LVNpZ25lZEhlYWRlcnM9aG9zdCZhY3Rvcl9pZD0wJmtleV9pZD0wJnJlcG9faWQ9MCJ9.jtpPF_RMOCMS1WZsoNhEYhm2SKW7v4WFVun5NWvIYBU)"
   ],
   "metadata": {
    "collapsed": false
   }
  },
  {
   "cell_type": "code",
   "execution_count": 136,
   "outputs": [],
   "source": [
    "g1 = Graph(4)\n",
    "\n",
    "g1.add_edge(0,1,-5)\n",
    "g1.add_edge(0,2,2)\n",
    "g1.add_edge(0,3,3)\n",
    "g1.add_edge(1,2,4)\n",
    "g1.add_edge(2,3,1)"
   ],
   "metadata": {
    "collapsed": false,
    "ExecuteTime": {
     "end_time": "2024-01-28T17:50:09.835928300Z",
     "start_time": "2024-01-28T17:50:09.821921Z"
    }
   }
  },
  {
   "cell_type": "markdown",
   "source": [
    "### 3.2.1 finding single source the shortest path using dijkstra"
   ],
   "metadata": {
    "collapsed": false
   }
  },
  {
   "cell_type": "code",
   "execution_count": 137,
   "outputs": [
    {
     "name": "stdout",
     "output_type": "stream",
     "text": [
      "can not use dijkstra on graphs with negative weight!\n"
     ]
    }
   ],
   "source": [
    "g1.dijkstra(0)"
   ],
   "metadata": {
    "collapsed": false,
    "ExecuteTime": {
     "end_time": "2024-01-28T17:50:09.914757100Z",
     "start_time": "2024-01-28T17:50:09.835928300Z"
    }
   }
  },
  {
   "cell_type": "markdown",
   "source": [
    "### 3.2.2 make all weights positive using johnson:"
   ],
   "metadata": {
    "collapsed": false
   }
  },
  {
   "cell_type": "code",
   "execution_count": 138,
   "outputs": [
    {
     "name": "stdout",
     "output_type": "stream",
     "text": [
      "distance between the virtual node and other nodes:  [0, -5, -1, 0]\n",
      " all edges after johnson algorithm:  [[(1, 0), (2, 3), (3, 3)], [(2, 0)], [(3, 0)], []]\n"
     ]
    }
   ],
   "source": [
    "g1.johnson()"
   ],
   "metadata": {
    "collapsed": false,
    "ExecuteTime": {
     "end_time": "2024-01-28T17:50:09.914757100Z",
     "start_time": "2024-01-28T17:50:09.851566800Z"
    }
   }
  },
  {
   "cell_type": "markdown",
   "source": [
    "## 3.3 solving a difference constraint system\n",
    "![example3](https://private-user-images.githubusercontent.com/125073378/300279883-b8ebf41b-75b1-48fb-867c-f300ee78b680.png?jwt=eyJhbGciOiJIUzI1NiIsInR5cCI6IkpXVCJ9.eyJpc3MiOiJnaXRodWIuY29tIiwiYXVkIjoicmF3LmdpdGh1YnVzZXJjb250ZW50LmNvbSIsImtleSI6ImtleTUiLCJleHAiOjE3MDY0NjE1ODUsIm5iZiI6MTcwNjQ2MTI4NSwicGF0aCI6Ii8xMjUwNzMzNzgvMzAwMjc5ODgzLWI4ZWJmNDFiLTc1YjEtNDhmYi04NjdjLWYzMDBlZTc4YjY4MC5wbmc_WC1BbXotQWxnb3JpdGhtPUFXUzQtSE1BQy1TSEEyNTYmWC1BbXotQ3JlZGVudGlhbD1BS0lBVkNPRFlMU0E1M1BRSzRaQSUyRjIwMjQwMTI4JTJGdXMtZWFzdC0xJTJGczMlMkZhd3M0X3JlcXVlc3QmWC1BbXotRGF0ZT0yMDI0MDEyOFQxNzAxMjVaJlgtQW16LUV4cGlyZXM9MzAwJlgtQW16LVNpZ25hdHVyZT0xYjk5NGMzNGM5MWMwZmEwZjE4Y2MxYmEyMGUwYzg3YTcyODMwNjNmMmMwYzdmODIxZTMxNzU5ZDcxOGNjODk4JlgtQW16LVNpZ25lZEhlYWRlcnM9aG9zdCZhY3Rvcl9pZD0wJmtleV9pZD0wJnJlcG9faWQ9MCJ9.jvudQckTyJ_bwh2uUnQr6XObkmLSUDt_tn_tN6WdYEA)"
   ],
   "metadata": {
    "collapsed": false
   }
  },
  {
   "cell_type": "code",
   "execution_count": 139,
   "outputs": [],
   "source": [
    "g2 = Graph(5)\n",
    "\n",
    "g2.add_edge(0,4,-6)\n",
    "g2.add_edge(2,4,2)\n",
    "g2.add_edge(1,0,4)\n",
    "g2.add_edge(2,0,-3)\n",
    "g2.add_edge(3,1,4)\n",
    "g2.add_edge(4,1,3)\n",
    "g2.add_edge(0,3,5)\n",
    "g2.add_edge(3,2,-1)"
   ],
   "metadata": {
    "collapsed": false,
    "ExecuteTime": {
     "end_time": "2024-01-28T17:50:09.914757100Z",
     "start_time": "2024-01-28T17:50:09.867547500Z"
    }
   }
  },
  {
   "cell_type": "code",
   "execution_count": 140,
   "outputs": [
    {
     "name": "stdout",
     "output_type": "stream",
     "text": [
      "distance between the virtual node and other nodes:  [-4, -7, -1, 0, -10]\n",
      " all edges after johnson algorithm:  [[(4, 0), (3, 1)], [(0, 1)], [(4, 11), (0, 0)], [(1, 11), (2, 0)], [(1, 0)]]\n"
     ]
    }
   ],
   "source": [
    "g2.johnson()"
   ],
   "metadata": {
    "collapsed": false,
    "ExecuteTime": {
     "end_time": "2024-01-28T17:50:09.914757100Z",
     "start_time": "2024-01-28T17:50:09.883187700Z"
    }
   }
  },
  {
   "cell_type": "markdown",
   "source": [
    "so our answers are:\n",
    "x1 = -4t\n",
    "x2 = -7t\n",
    "x3 = -1t\n",
    "x4 = 0\n",
    "x5 = -10t\n",
    "for every t"
   ],
   "metadata": {
    "collapsed": false
   }
  }
 ],
 "metadata": {
  "kernelspec": {
   "display_name": "Python 3",
   "language": "python",
   "name": "python3"
  },
  "language_info": {
   "codemirror_mode": {
    "name": "ipython",
    "version": 2
   },
   "file_extension": ".py",
   "mimetype": "text/x-python",
   "name": "python",
   "nbconvert_exporter": "python",
   "pygments_lexer": "ipython2",
   "version": "2.7.6"
  }
 },
 "nbformat": 4,
 "nbformat_minor": 0
}
